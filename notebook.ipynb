{
  "cells": [
    {
      "cell_type": "markdown",
      "source": [
        " Kaggle's Titanic ML challenge\n",
        "# Table Of Contents:\n",
        " - [Connecting To The Database](#Connecting-To-The-Database)\n",
        " - [Exploratory Data Analysis](#Exploratory-Data-Analysis)\n"
      ],
      "metadata": {
        "nteract": {
          "transient": {
            "deleting": false
          }
        }
      }
    },
    {
      "cell_type": "markdown",
      "source": [
        "# Connecting To The Database\n"
      ],
      "metadata": {
        "nteract": {
          "transient": {
            "deleting": false
          }
        }
      }
    },
    {
      "cell_type": "code",
      "source": [
        "# __Environment__\n",
        "import sqlite3 as sql\n",
        "import numpy as np\n",
        "import pandas as pd\n",
        "import matplotlib.pyplot as plt\n",
        "import seaborn as sns\n",
        "from sklearn.model_selection import train_test_split\n",
        "from sklearn.tree import DecisionTreeClassifier\n",
        "from sklearn.svm import SVC\n",
        "from sklearn.metrics import confusion_matrix, accuracy_score, precision_score, recall_score, f1_score\n",
        "import joblib\n",
        "from tqdm import tqdm\n",
        "from library import *\n",
        "\n",
        "cd_data = 'data/'\n",
        "cd_figures = 'figures/'\n",
        "cd_docs = 'docs/'\n",
        "cd_models = 'models/'\n",
        "\n",
        "db = DataBase(path=cd_data, file_name='titanic.sqlite')\n",
        "\n",
        "train = db.query(\"\"\"\n",
        "    SELECT *\n",
        "    FROM train;\n",
        "    \"\"\")\n",
        "\n",
        "test = db.query(\"\"\"\n",
        "    SELECT *\n",
        "    FROM test;\n",
        "    \"\"\")\n",
        "example = db.query(\"\"\"\n",
        "    SELECT *\n",
        "    FROM example;\n",
        "    \"\"\")\n"
      ],
      "outputs": [],
      "execution_count": null,
      "metadata": {
        "collapsed": true,
        "jupyter": {
          "source_hidden": false,
          "outputs_hidden": false
        },
        "nteract": {
          "transient": {
            "deleting": false
          }
        }
      }
    },
    {
      "cell_type": "code",
      "source": [
        "# __Cleaning The Train Data__\n",
        "df = process_data(train)\n",
        "db.write(df, 'train_clean')"
      ],
      "outputs": [],
      "execution_count": null,
      "metadata": {
        "collapsed": true,
        "jupyter": {
          "source_hidden": false,
          "outputs_hidden": false
        },
        "nteract": {
          "transient": {
            "deleting": false
          }
        }
      }
    },
    {
      "cell_type": "markdown",
      "source": [
        "# Exploratory Data Analysis\n"
      ],
      "metadata": {
        "nteract": {
          "transient": {
            "deleting": false
          }
        }
      }
    },
    {
      "cell_type": "code",
      "source": [
        "plt.title('Heatmap Of Titanic Data Correlations')\n",
        "sns.heatmap(df.corr())\n",
        "plt.savefig(cd_figures+'heatmap', transparent=True)\n"
      ],
      "outputs": [],
      "execution_count": null,
      "metadata": {
        "collapsed": true,
        "jupyter": {
          "source_hidden": false,
          "outputs_hidden": false
        },
        "nteract": {
          "transient": {
            "deleting": false
          }
        }
      }
    },
    {
      "cell_type": "markdown",
      "source": [
        "### Heatmap Observation\n",
        "The heatmap shows a strong correlation with sex and surviving.\n",
        "However, there are also weak correlations with Fare, Cabin, and location as well.\n",
        "We know that cabin and fare are related. This is because the higher level cabins\n",
        "cost more.\n",
        "### Questions:\n",
        "- What is the rate of women that survived vs the rate of men that survived?\n",
        "- Does having children increase the rate of survival?\n",
        "- Does the boarding location effect survival rate?\n"
      ],
      "metadata": {
        "nteract": {
          "transient": {
            "deleting": false
          }
        }
      }
    },
    {
      "cell_type": "code",
      "source": [
        "#__DB Queries__\n",
        "\n",
        "df_survived = db.query(\"\"\"\n",
        "    SELECT *\n",
        "    FROM train_clean\n",
        "    WHERE Survived = True;\n",
        "    \"\"\")\n",
        "\n",
        "\n",
        "df_families = db.query(\"\"\"\n",
        "    SELECT *\n",
        "    FROM train_clean\n",
        "    WHERE Parch > 0\n",
        "    AND SibSp > 0;\n",
        "    \"\"\")\n",
        "\n",
        "df_families_survived = db.query(\"\"\"\n",
        "    SELECT *\n",
        "    FROM train_clean\n",
        "    WHERE Parch > 0\n",
        "    AND SibSp > 0\n",
        "    AND Survived = True;\n",
        "    \"\"\")\n",
        "\n",
        "df_solo = db.query(\"\"\"\n",
        "    SELECT *\n",
        "    FROM train_clean\n",
        "    WHERE Parch = 0\n",
        "    AND SibSp = 0;\n",
        "    \"\"\")\n",
        "\n",
        "df_solo_survived = db.query(\"\"\"\n",
        "    SELECT *\n",
        "    FROM train_clean\n",
        "    WHERE Parch = 0\n",
        "    AND SibSp = 0\n",
        "    AND Survived = True;\n",
        "    \"\"\")\n",
        "\n",
        "df_cherbourg = db.query(\"\"\"\n",
        "    SELECT *\n",
        "    FROM train_clean\n",
        "    WHERE Cherbourg = True;\n",
        "    \"\"\")\n",
        "\n",
        "df_cherbourg_survived = db.query(\"\"\"\n",
        "    SELECT *\n",
        "    FROM train_clean\n",
        "    WHERE Cherbourg = True\n",
        "    AND Survived = True;\n",
        "    \"\"\")\n",
        "\n",
        "df_queenstown = db.query(\"\"\"\n",
        "    SELECT *\n",
        "    FROM train_clean\n",
        "    WHERE Queenstown = True;\n",
        "    \"\"\")\n",
        "\n",
        "df_queenstown = db.query(\"\"\"\n",
        "    SELECT *\n",
        "    FROM train_clean\n",
        "    WHERE Queenstown = True;\n",
        "    \"\"\")\n",
        "\n",
        "df_queenstown_survived = db.query(\"\"\"\n",
        "    SELECT *\n",
        "    FROM train_clean\n",
        "    WHERE Queenstown = True\n",
        "    AND Survived = True;\n",
        "    \"\"\")\n",
        "\n",
        "df_southampton = db.query(\"\"\"\n",
        "    SELECT *\n",
        "    FROM train_clean\n",
        "    WHERE Southampton = True;\n",
        "    \"\"\")\n",
        "\n",
        "df_southampton_survived = db.query(\"\"\"\n",
        "    SELECT *\n",
        "    FROM train_clean\n",
        "    WHERE Southampton = True\n",
        "    AND Survived = True;\n",
        "    \"\"\")\n",
        "\n",
        "q1 = df.Fare.std()\n",
        "q2 = df.Fare.std()*2\n",
        "q3 = df.Fare.std()*3\n",
        "q4 = df.Fare.std()*4\n",
        "\n",
        "df_fareQ1 = db.query(\"\"\"\n",
        "    SELECT *\n",
        "    FROM train_clean\n",
        "    WHERE FareBinned <= {0};\n",
        "    \"\"\".format(q1))\n",
        "\n",
        "df_fareQ2 = db.query(\"\"\"\n",
        "    SELECT *\n",
        "    FROM train_clean\n",
        "    WHERE FareBinned > {0}\n",
        "    AND FareBinned <= {1};\n",
        "    \"\"\".format(q1, q2))\n",
        "\n",
        "df_fareQ3 = db.query(\"\"\"\n",
        "    SELECT *\n",
        "    FROM train_clean\n",
        "    WHERE FareBinned > {0}\n",
        "    AND FareBinned <= {1};\n",
        "    \"\"\".format(q2, q3))\n",
        "\n",
        "df_fareQ4 = db.query(\"\"\"\n",
        "    SELECT *\n",
        "    FROM train_clean\n",
        "    WHERE FareBinned > {0};\n",
        "    \"\"\".format(q3))\n",
        "\n",
        "df_fareQ1_survived = db.query(\"\"\"\n",
        "    SELECT *\n",
        "    FROM train_clean\n",
        "    WHERE FareBinned < {0}\n",
        "    AND Survived = True;\n",
        "    \"\"\".format(q1))\n",
        "\n",
        "df_fareQ2_survived = db.query(\"\"\"\n",
        "    SELECT *\n",
        "    FROM train_clean\n",
        "    WHERE FareBinned > {0}\n",
        "    AND FareBinned <= {1}\n",
        "    AND Survived = True;\n",
        "    \"\"\".format(q2, q3))\n",
        "\n",
        "df_fareQ3_survived = db.query(\"\"\"\n",
        "    SELECT *\n",
        "    FROM train_clean\n",
        "    WHERE FareBinned > {0}\n",
        "    AND FareBinned <= {1}\n",
        "    AND Survived = True;\n",
        "    \"\"\".format(q3, q4))\n",
        "\n",
        "df_fareQ4_survived = db.query(\"\"\"\n",
        "    SELECT *\n",
        "    FROM train_clean\n",
        "    WHERE FareBinned > {0}\n",
        "    AND Survived = True;\n",
        "    \"\"\".format(q3))\n"
      ],
      "outputs": [],
      "execution_count": null,
      "metadata": {
        "collapsed": true,
        "jupyter": {
          "source_hidden": false,
          "outputs_hidden": false
        },
        "nteract": {
          "transient": {
            "deleting": false
          }
        }
      }
    },
    {
      "cell_type": "code",
      "source": [
        "# __Calculations__\n",
        "ratio_survived = df_survived.shape[0] / df.shape[0]\n",
        "\n",
        "num_women = sum(df['IsFemale'])\n",
        "num_men = sum(df['IsMale'])\n",
        "num_total = df.shape[0]\n",
        "\n",
        "ratio_women = num_women / num_total\n",
        "ratio_men = num_men / num_total\n",
        "\n",
        "num_women_survived = sum(df_survived['IsFemale'])\n",
        "num_men_survived = sum(df_survived['IsMale'])\n",
        "num_survived = num_women_survived + num_men_survived\n",
        "ratio_women_survived = num_women_survived / num_survived\n",
        "ratio_men_survived = num_men_survived / num_survived\n",
        "\n",
        "families = df_families.shape[0]\n",
        "families_survived = df_families_survived.shape[0]\n",
        "solo = df_solo.shape[0]\n",
        "solo_survived = df_solo_survived.shape[0]\n",
        "\n",
        "ratio_families = families / num_total\n",
        "ratio_families_survived = families_survived / families\n",
        "ratio_solo = solo / num_total\n",
        "ratio_solo_survived = solo_survived / solo\n",
        "\n",
        "cherbourg = df_cherbourg.shape[0]\n",
        "cherbourg_survived = df_cherbourg_survived.shape[0]\n",
        "queenstown = df_queenstown.shape[0]\n",
        "queenstown_survived = df_queenstown_survived.shape[0]\n",
        "southampton = df_southampton.shape[0]\n",
        "southampton_survived = df_southampton_survived.shape[0]\n",
        "\n",
        "ratio_cherbourg = cherbourg / num_total\n",
        "ratio_cherbourg_survived = cherbourg_survived / cherbourg\n",
        "ratio_queenstown = queenstown / num_total\n",
        "ratio_queenstown_survived = queenstown_survived / queenstown\n",
        "ratio_southampton = southampton / num_total\n",
        "ratio_southampton_survived = southampton_survived / southampton\n",
        "\n",
        "ratio_lowF = df_fareQ1.shape[0] / num_total\n",
        "ratio_medF = df_fareQ2.shape[0] / num_total\n",
        "ratio_highF = df_fareQ3.shape[0] / num_total\n",
        "ratio_veryhighF = df_fareQ4.shape[0] / num_total\n",
        "\n",
        "ratio_lowF_survived = df_fareQ1_survived.shape[0] / df_fareQ1.shape[0]\n",
        "ratio_medF_survived = df_fareQ2_survived.shape[0] / df_fareQ2.shape[0]\n",
        "ratio_highF_survived = df_fareQ3_survived.shape[0] / df_fareQ3.shape[0]\n",
        "ratio_veryhighF_survived = df_fareQ4_survived.shape[0] / df_fareQ4.shape[0]\n"
      ],
      "outputs": [],
      "execution_count": null,
      "metadata": {
        "collapsed": true,
        "jupyter": {
          "source_hidden": false,
          "outputs_hidden": false
        },
        "nteract": {
          "transient": {
            "deleting": false
          }
        }
      }
    },
    {
      "cell_type": "code",
      "source": [
        "# __Data Visualization__\n",
        "shift = 3\n",
        "outlier_gate_index = -10\n",
        "title = \"Distrobution Of Fare Prices\"\n",
        "plt.title(title)\n",
        "plt.hist(df.Fare, color = 'black', bins=10)\n",
        "plt.vlines(np.arange(shift, q4, q1+shift), 0, max([df_fareQ1.shape[0]]), color='cyan')\n",
        "plt.savefig(cd_figures+title.lower().replace(' ', '-'), transparent=True)\n",
        "\n",
        "# __Reporting__\n",
        "report = ('# __Titanic Exploratory Data Analysis__' +\n",
        "'\\nRatio of survivors: {0}'.format(round(ratio_survived,2)) +\n",
        "'\\nRatio of female passengers: {0}'.format(round(ratio_women,2)) +\n",
        "'\\nRatio of female survivors: {0}'.format(round(ratio_women_survived, 2)) +\n",
        "'\\nRatio of male passengers: {0}'.format(round(ratio_men, 2)) +\n",
        "'\\nRatio of male survivors: {0}'.format(round(ratio_men_survived, 2)) +\n",
        "'\\nRatio of family members: {0}'.format(round(ratio_families, 2)) +\n",
        "'\\nRatio of family members that survived: {0}'.format(round(ratio_families_survived, 2)) +\n",
        "'\\nRatio of solo passengers: {0}'.format(round(ratio_solo, 2)) +\n",
        "'\\nRatio of solo passengers that survived: {0}'.format(round(ratio_solo_survived, 2)) +\n",
        "'\\nRatio of passengers embarked from Cherbourg: {0}'.format(round(ratio_cherbourg, 2)) +\n",
        "'\\nRatio of passengers embarked from Queenstown: {0}'.format(round(ratio_queenstown, 2)) +\n",
        "'\\nRatio of passengers embarked from Southampton: {0}'.format(round(ratio_southampton, 2)) +\n",
        "'\\nRatio of embarkees from Cherbourg that survived: {0}'.format(round(ratio_cherbourg_survived, 2)) +\n",
        "'\\nRatio of embarkees from Queenstown that survived: {0}'.format(round(ratio_queenstown_survived, 2)) +\n",
        "'\\nRatio of embarkees from Southampton that survived: {0}'.format(round(ratio_southampton_survived, 2)) +\n",
        "'\\nRatio of low fares: {0}'.format(round(ratio_lowF, 2)) +\n",
        "'\\nRatio of medium fares: {0}'.format(round(ratio_medF, 2)) +\n",
        "'\\nRatio of high fares: {0}'.format(round(ratio_highF, 2)) +\n",
        "'\\nRatio of very high fares: {0}'.format(round(ratio_veryhighF, 2)) +\n",
        "'\\nRatio of low fares that survived: {0}'.format(round(ratio_lowF_survived, 2)) +\n",
        "'\\nRatio of medium fares that survived: {0}'.format(round(ratio_medF_survived, 2)) +\n",
        "'\\nRatio of high fares that survived: {0}'.format(round(ratio_highF_survived, 2)) +\n",
        "'\\nRatio of very high fares that survived: {0}'.format(round(ratio_veryhighF_survived, 2)))\n",
        "\n",
        "with open(cd_docs+'EDA.md', 'w+') as doc:\n",
        "    doc.write(report)\n"
      ],
      "outputs": [],
      "execution_count": null,
      "metadata": {
        "collapsed": true,
        "jupyter": {
          "source_hidden": false,
          "outputs_hidden": false
        },
        "nteract": {
          "transient": {
            "deleting": false
          }
        }
      }
    },
    {
      "cell_type": "markdown",
      "source": [
        " There are some standout metrics from our report. Even though there were less\n",
        "women on the Titanic, women still had a better chance of survival than men.\n",
        "Ranking at only 35% of the population on board, 68% of women survived in our\n",
        " training data.\n",
        " There are is also a remarkably high survival rate among passengers who had\n",
        "Higher priced tickets, specifically ones who where in the 50%-75% range of pricing.\n"
      ],
      "metadata": {
        "nteract": {
          "transient": {
            "deleting": false
          }
        }
      }
    },
    {
      "cell_type": "code",
      "source": [
        "# __Data Modeling__\n",
        "x = df.drop('Survived', axis=1)\n",
        "y = df.Survived\n",
        "x_train, x_test, y_train, y_test = train_test_split(x, y, test_size=0.33, random_state=42)\n",
        "\n",
        "# Random Search of model parameters\n",
        "models = 1 # Increase this parameter for more randomly generated models.\n",
        "\n",
        "for model in tqdm(range(models)):\n",
        "    c = np.random.random()*np.random.randint(2)\n",
        "    parameters = {'C':c if c > 0 else 0.1,\n",
        "     'kernel':'poly',\n",
        "     'degree':np.random.randint(10),\n",
        "     'gamma':['scale', 'auto'][np.random.randint(2)],\n",
        "     'coef0':np.random.random()*np.random.randint(2),\n",
        "     'shrinking':np.random.randint(2),\n",
        "     'probability':np.random.randint(2),\n",
        "     'tol':np.random.random()/100,\n",
        "     'cache_size':200,\n",
        "     'class_weight':None,\n",
        "     'verbose':False,\n",
        "     'max_iter':-1,\n",
        "     'decision_function_shape':'ovr',\n",
        "     'break_ties':np.random.randint(2),\n",
        "     'random_state':42}\n",
        "\n",
        "    svc = SVC(C=parameters['C'],\n",
        "        kernel=parameters['kernel'],\n",
        "        degree=parameters['degree'],\n",
        "        gamma=parameters['gamma'],\n",
        "        coef0=parameters['coef0'],\n",
        "        shrinking=parameters['shrinking'],\n",
        "        probability=parameters['probability'],\n",
        "        tol=parameters['tol'],\n",
        "        cache_size=parameters['cache_size'],\n",
        "        class_weight=parameters['class_weight'],\n",
        "        verbose=parameters['verbose'],\n",
        "        max_iter=parameters['max_iter'],\n",
        "        decision_function_shape=parameters['decision_function_shape'],\n",
        "        break_ties=parameters['break_ties'],\n",
        "        random_state=parameters['random_state'])\n",
        "\n",
        "    svc.fit(x_train, y_train)\n",
        "    y_pred = svc.predict(x_test)\n",
        "\n",
        "    # __Model Performance__\n",
        "    metrics = pd.DataFrame({'accuracy': [accuracy_score(y_test, y_pred)],\n",
        "    'precision': [precision_score(y_test, y_pred)],\n",
        "    'recall': [recall_score(y_test, y_pred)],\n",
        "    'f1': [f1_score(y_test, y_pred)]})\n",
        "\n",
        "    for key, val in parameters.items():\n",
        "        metrics[key] = val\n",
        "\n",
        "# Checks if the model predicted if anyone would survive.\n",
        "    if y_pred.sum() > 0:\n",
        "        db.write(metrics, 'svc-metrics', if_exists='append')\n",
        "\n"
      ],
      "outputs": [],
      "execution_count": null,
      "metadata": {
        "collapsed": true,
        "jupyter": {
          "source_hidden": false,
          "outputs_hidden": false
        },
        "nteract": {
          "transient": {
            "deleting": false
          }
        }
      }
    },
    {
      "cell_type": "code",
      "source": [
        "# Applying the best parameters to the model.\n",
        "\n",
        "best_parameters = db.query(\"\"\"\n",
        "    SELECT DISTINCT * FROM [svc-metrics]\n",
        "    WHERE precision > 0\n",
        "    ORDER BY accuracy DESC;\n",
        "    \"\"\").head(1)\n",
        "\n",
        "with open(cd_docs+'model_metrics.md', 'w+') as file:\n",
        "    file.write(best_parameters.to_markdown(index=False))\n"
      ],
      "outputs": [],
      "execution_count": null,
      "metadata": {
        "collapsed": true,
        "jupyter": {
          "source_hidden": false,
          "outputs_hidden": false
        },
        "nteract": {
          "transient": {
            "deleting": false
          }
        }
      }
    },
    {
      "cell_type": "markdown",
      "source": [
        "|   accuracy |   precision |   recall |       f1 |        C | kernel   |   degree | gamma   |    coef0 |   shrinking |   probability |        tol |   cache_size | class_weight   |   verbose |   max_iter | decision_function_shape   |   break_ties |   random_state |\n",
        "|-----------:|------------:|---------:|---------:|---------:|:---------|---------:|:--------|---------:|------------:|--------------:|-----------:|-------------:|:---------------|----------:|-----------:|:--------------------------|-------------:|---------------:|\n",
        "|    0.80339 |    0.798077 | 0.691667 | 0.741071 | 0.154449 | poly     |        2 | auto    | 0.797978 |           0 |             1 | 0.00974807 |          200 |                |         0 |         -1 | ovr                       |            0 |             42 |\n",
        "This has provided a good start to answering our problem. We know that if we continue our random search we are bound to get better results. However due to the computational limitaions we have opted to go with this model.\n",
        "Perhaps we could attempt this notebook again using an Nvidia GPU with cuda cores.\n"
      ],
      "metadata": {
        "nteract": {
          "transient": {
            "deleting": false
          }
        }
      }
    },
    {
      "cell_type": "code",
      "source": [
        "# __Model Production__\n",
        "svc = SVC(C=best_parameters['C'].values[0],\n",
        "    kernel=best_parameters['kernel'].values[0],\n",
        "    degree=best_parameters['degree'].values[0],\n",
        "    gamma=best_parameters['gamma'].values[0],\n",
        "    coef0=best_parameters['coef0'].values[0],\n",
        "    shrinking=best_parameters['shrinking'].values[0],\n",
        "    probability=best_parameters['probability'].values[0],\n",
        "    tol=best_parameters['tol'].values[0],\n",
        "    cache_size=best_parameters['cache_size'].values[0],\n",
        "    class_weight=best_parameters['class_weight'].values[0],\n",
        "    verbose=best_parameters['verbose'].values[0],\n",
        "    max_iter=best_parameters['max_iter'].values[0],\n",
        "    decision_function_shape=best_parameters['decision_function_shape'].values[0],\n",
        "    break_ties=best_parameters['break_ties'].values[0],\n",
        "    random_state=best_parameters['random_state'].values[0])\n"
      ],
      "outputs": [],
      "execution_count": null,
      "metadata": {
        "collapsed": true,
        "jupyter": {
          "source_hidden": false,
          "outputs_hidden": false
        },
        "nteract": {
          "transient": {
            "deleting": false
          }
        }
      }
    },
    {
      "cell_type": "code",
      "source": [
        "# Pulling train and test data again.\n",
        "train = db.query(\"\"\"\n",
        "    SELECT *\n",
        "    FROM train;\n",
        "    \"\"\")\n",
        "\n",
        "test = db.query(\"\"\"\n",
        "    SELECT *\n",
        "    FROM test;\n",
        "    \"\"\")\n",
        "\n",
        "# Preparing the data for prediction\n",
        "p_test = process_data(test)\n",
        "p_train = process_data(train)\n",
        "x = p_train.drop('Survived', axis=1)\n",
        "y = p_train.Survived\n",
        "\n",
        "# Traing and saving the model\n",
        "svc.fit(x, y)\n",
        "joblib.dump(svc, cd_models+'svc.pkl')\n",
        "\n",
        "# There is a single null value in the test data/Fare column!!\n",
        "# - Replacing it with the median.\n",
        "p_test.Fare.fillna(p_test.Fare.median(), inplace=True)\n",
        "y_pred = svc.predict(p_test)\n",
        "# Need to add the passengerID back in as per the submission requirements.\n",
        "pred = pd.DataFrame({'PassengerId':p_test.PassengerId, 'Survived':y_pred})\n",
        "db.write(pred, 'prediction')\n",
        "pred.to_csv(cd_data+'titanic-prediction.csv', index=False)\n"
      ],
      "outputs": [],
      "execution_count": null,
      "metadata": {
        "collapsed": true,
        "jupyter": {
          "source_hidden": false,
          "outputs_hidden": false
        },
        "nteract": {
          "transient": {
            "deleting": false
          }
        }
      }
    },
    {
      "cell_type": "markdown",
      "source": [
        "The production model on the test data produced a score on the [Kaggle Leaderboards](https://www.kaggle.com/c/titanic/leaderboard) of 0.75119.\n",
        "The next step would be to allow a GPU to run 1000 or more iterations of this model to gain optimal parameters. "
      ],
      "metadata": {
        "nteract": {
          "transient": {
            "deleting": false
          }
        }
      }
    }
  ],
  "metadata": {
    "kernelspec": {
      "argv": [
        "/home/kalen/anaconda3/envs/Titanic/bin/python",
        "-m",
        "ipykernel_launcher",
        "-f",
        "{connection_file}"
      ],
      "display_name": "Python 3",
      "language": "python",
      "name": "python3"
    }
  },
  "nbformat": 4,
  "nbformat_minor": 0
}